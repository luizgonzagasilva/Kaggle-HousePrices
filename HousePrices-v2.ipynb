{
 "cells": [
  {
   "cell_type": "code",
   "execution_count": 3,
   "metadata": {
    "colab": {},
    "colab_type": "code",
    "id": "YfqxTpcpcMHB"
   },
   "outputs": [],
   "source": [
    "import numpy as np\n",
    "import pandas as pd\n",
    "import matplotlib.pyplot as plt\n",
    "%matplotlib inline"
   ]
  },
  {
   "cell_type": "code",
   "execution_count": 4,
   "metadata": {
    "colab": {},
    "colab_type": "code",
    "id": "cfbBX_ZTcMHQ"
   },
   "outputs": [],
   "source": [
    "df_train = pd.read_csv('./DataSet/train.csv',sep=',')\n",
    "df_test  = pd.read_csv('./DataSet/test.csv', sep=',')"
   ]
  },
  {
   "cell_type": "code",
   "execution_count": 5,
   "metadata": {
    "colab": {},
    "colab_type": "code",
    "id": "Txru-8j7cMHd"
   },
   "outputs": [],
   "source": [
    "df_train.head()\n",
    "y_train = pd.DataFrame()\n",
    "y_train['SalePrice'] = df_train['SalePrice']"
   ]
  },
  {
   "cell_type": "markdown",
   "metadata": {
    "colab_type": "text",
    "id": "L9f8Yrf8cMHw"
   },
   "source": [
    "# Missing Values - variáveis categórica"
   ]
  },
  {
   "cell_type": "code",
   "execution_count": 6,
   "metadata": {
    "colab": {},
    "colab_type": "code",
    "id": "9FGDzSTucMHy",
    "outputId": "23839a18-441b-4e8b-ecb1-856b0d5a3385"
   },
   "outputs": [
    {
     "data": {
      "text/plain": [
       "['LotFrontage',\n",
       " 'Alley',\n",
       " 'MasVnrType',\n",
       " 'MasVnrArea',\n",
       " 'BsmtQual',\n",
       " 'BsmtCond',\n",
       " 'BsmtExposure',\n",
       " 'BsmtFinType1',\n",
       " 'BsmtFinType2',\n",
       " 'Electrical',\n",
       " 'FireplaceQu',\n",
       " 'GarageType',\n",
       " 'GarageYrBlt',\n",
       " 'GarageFinish',\n",
       " 'GarageQual',\n",
       " 'GarageCond',\n",
       " 'PoolQC',\n",
       " 'Fence',\n",
       " 'MiscFeature']"
      ]
     },
     "execution_count": 6,
     "metadata": {},
     "output_type": "execute_result"
    }
   ],
   "source": [
    "train_cols_with_missing = [col for col in df_train.columns if df_train[col].isnull().any()]\n",
    "train_cols_with_missing"
   ]
  },
  {
   "cell_type": "markdown",
   "metadata": {
    "colab_type": "text",
    "id": "x6J9W_OecMIB"
   },
   "source": [
    "## Alley - Tipo de acesso do beco à propriedade"
   ]
  },
  {
   "cell_type": "code",
   "execution_count": 7,
   "metadata": {
    "colab": {},
    "colab_type": "code",
    "id": "ynSVpQBgcMIC",
    "outputId": "7b35f69e-41e4-4098-e181-2fe6fa5a4dae"
   },
   "outputs": [
    {
     "data": {
      "text/plain": [
       "array([nan, 'Grvl', 'Pave'], dtype=object)"
      ]
     },
     "execution_count": 7,
     "metadata": {},
     "output_type": "execute_result"
    }
   ],
   "source": [
    "df_train['Alley'].unique()"
   ]
  },
  {
   "cell_type": "code",
   "execution_count": 8,
   "metadata": {
    "colab": {},
    "colab_type": "code",
    "id": "Ch9wKckGcMIO",
    "outputId": "a2db0189-2911-4140-a1ab-0abcc42cf680"
   },
   "outputs": [
    {
     "data": {
      "text/plain": [
       "<AxesSubplot:xlabel='Alley'>"
      ]
     },
     "execution_count": 8,
     "metadata": {},
     "output_type": "execute_result"
    },
    {
     "data": {
      "image/png": "[encoded data removed]",
      "text/plain": [
       "<Figure size 432x288 with 1 Axes>"
      ]
     },
     "metadata": {
      "needs_background": "light"
     },
     "output_type": "display_data"
    }
   ],
   "source": [
    "#df_train['Alley'] = df_train['Alley'].fillna(value='NaN')\n",
    "group = df_train.groupby('Alley')\n",
    "group.count()['SalePrice'].plot.bar()"
   ]
  },
  {
   "cell_type": "code",
   "execution_count": 9,
   "metadata": {
    "colab": {},
    "colab_type": "code",
    "id": "qBWsZjdpcMIg"
   },
   "outputs": [],
   "source": [
    "vet = group.count()['SalePrice']/df_train[df_train['Alley'].notnull()]['SalePrice'].count()"
   ]
  },
  {
   "cell_type": "code",
   "execution_count": 10,
   "metadata": {
    "colab": {},
    "colab_type": "code",
    "id": "pYHAc3BVcMIs",
    "outputId": "d32cc162-cf82-455b-ee8e-d502f9f13ed3"
   },
   "outputs": [
    {
     "data": {
      "text/html": [
       "<div>\n",
       "<style scoped>\n",
       "    .dataframe tbody tr th:only-of-type {\n",
       "        vertical-align: middle;\n",
       "    }\n",
       "\n",
       "    .dataframe tbody tr th {\n",
       "        vertical-align: top;\n",
       "    }\n",
       "\n",
       "    .dataframe thead th {\n",
       "        text-align: right;\n",
       "    }\n",
       "</style>\n",
       "<table border=\"1\" class=\"dataframe\">\n",
       "  <thead>\n",
       "    <tr style=\"text-align: right;\">\n",
       "      <th></th>\n",
       "      <th>Alley</th>\n",
       "      <th>SalePrice</th>\n",
       "    </tr>\n",
       "  </thead>\n",
       "  <tbody>\n",
       "    <tr>\n",
       "      <th>0</th>\n",
       "      <td>Grvl</td>\n",
       "      <td>0.549451</td>\n",
       "    </tr>\n",
       "    <tr>\n",
       "      <th>1</th>\n",
       "      <td>Pave</td>\n",
       "      <td>0.450549</td>\n",
       "    </tr>\n",
       "  </tbody>\n",
       "</table>\n",
       "</div>"
      ],
      "text/plain": [
       "  Alley  SalePrice\n",
       "0  Grvl   0.549451\n",
       "1  Pave   0.450549"
      ]
     },
     "execution_count": 10,
     "metadata": {},
     "output_type": "execute_result"
    }
   ],
   "source": [
    "vet = vet.to_frame()\n",
    "vet.reset_index()"
   ]
  },
  {
   "cell_type": "code",
   "execution_count": 11,
   "metadata": {
    "colab": {},
    "colab_type": "code",
    "id": "rmj24Ah4cMIz"
   },
   "outputs": [],
   "source": [
    "df_train['Alley'] = df_train['Alley'].fillna(value='NaN')"
   ]
  },
  {
   "cell_type": "code",
   "execution_count": 12,
   "metadata": {
    "colab": {},
    "colab_type": "code",
    "id": "wZXwUkmhcMJH"
   },
   "outputs": [],
   "source": [
    "# Grvl\n",
    "dist_change = df_train[df_train['Alley']=='NaN']['Id'].sample(frac=0.549451)\n",
    "for id in dist_change:\n",
    "    df_train.loc[df_train[\"Id\"]==id, \"Alley\"] = 'Grvl'"
   ]
  },
  {
   "cell_type": "code",
   "execution_count": 13,
   "metadata": {
    "colab": {},
    "colab_type": "code",
    "id": "B6eU25WhcMJS"
   },
   "outputs": [],
   "source": [
    "# Pave\n",
    "dist_change = df_train[df_train['Alley']=='NaN']['Id'].sample(frac=1)\n",
    "for id in dist_change:\n",
    "    df_train.loc[df_train[\"Id\"]==id, \"Alley\"] = 'Pave'"
   ]
  },
  {
   "cell_type": "code",
   "execution_count": 14,
   "metadata": {
    "colab": {},
    "colab_type": "code",
    "id": "xKEsNFzQcMJd",
    "outputId": "2737f225-92d4-4c10-aaf1-09f324c6a6ba"
   },
   "outputs": [
    {
     "data": {
      "text/plain": [
       "Grvl    802\n",
       "Pave    658\n",
       "Name: Alley, dtype: int64"
      ]
     },
     "execution_count": 14,
     "metadata": {},
     "output_type": "execute_result"
    }
   ],
   "source": [
    "df_train['Alley'].value_counts()"
   ]
  },
  {
   "cell_type": "code",
   "execution_count": 15,
   "metadata": {
    "colab": {},
    "colab_type": "code",
    "id": "v4aXkjvkcMJk",
    "outputId": "b7d09d9b-51af-4be8-b37f-c9d72528db30"
   },
   "outputs": [
    {
     "data": {
      "text/plain": [
       "<AxesSubplot:xlabel='MasVnrType'>"
      ]
     },
     "execution_count": 15,
     "metadata": {},
     "output_type": "execute_result"
    },
    {
     "data": {
      "image/png": "[encoded data removed]",
      "text/plain": [
       "<Figure size 432x288 with 1 Axes>"
      ]
     },
     "metadata": {
      "needs_background": "light"
     },
     "output_type": "display_data"
    }
   ],
   "source": [
    "#df_train['Alley'] = df_train['Alley'].fillna(value='NaN')\n",
    "group = df_train.groupby('MasVnrType')\n",
    "group.count()['SalePrice'].plot.bar()"
   ]
  },
  {
   "cell_type": "code",
   "execution_count": 16,
   "metadata": {
    "colab": {},
    "colab_type": "code",
    "id": "NvLcGbdXcMJq",
    "outputId": "3edbc4b4-9941-417c-8dec-50dc1b86b80a"
   },
   "outputs": [
    {
     "data": {
      "text/plain": [
       "None       864\n",
       "BrkFace    445\n",
       "Stone      128\n",
       "BrkCmn      15\n",
       "Name: MasVnrType, dtype: int64"
      ]
     },
     "execution_count": 16,
     "metadata": {},
     "output_type": "execute_result"
    }
   ],
   "source": [
    "df_train['MasVnrType'].value_counts()"
   ]
  },
  {
   "cell_type": "code",
   "execution_count": 17,
   "metadata": {
    "colab": {},
    "colab_type": "code",
    "id": "wBciheRDcMJ6",
    "outputId": "98eafe54-6361-4bd2-a970-d62541f94fef"
   },
   "outputs": [
    {
     "data": {
      "text/html": [
       "<div>\n",
       "<style scoped>\n",
       "    .dataframe tbody tr th:only-of-type {\n",
       "        vertical-align: middle;\n",
       "    }\n",
       "\n",
       "    .dataframe tbody tr th {\n",
       "        vertical-align: top;\n",
       "    }\n",
       "\n",
       "    .dataframe thead th {\n",
       "        text-align: right;\n",
       "    }\n",
       "</style>\n",
       "<table border=\"1\" class=\"dataframe\">\n",
       "  <thead>\n",
       "    <tr style=\"text-align: right;\">\n",
       "      <th></th>\n",
       "      <th>MasVnrType</th>\n",
       "      <th>SalePrice</th>\n",
       "    </tr>\n",
       "  </thead>\n",
       "  <tbody>\n",
       "    <tr>\n",
       "      <th>0</th>\n",
       "      <td>BrkCmn</td>\n",
       "      <td>0.010331</td>\n",
       "    </tr>\n",
       "    <tr>\n",
       "      <th>1</th>\n",
       "      <td>BrkFace</td>\n",
       "      <td>0.306474</td>\n",
       "    </tr>\n",
       "    <tr>\n",
       "      <th>2</th>\n",
       "      <td>None</td>\n",
       "      <td>0.595041</td>\n",
       "    </tr>\n",
       "    <tr>\n",
       "      <th>3</th>\n",
       "      <td>Stone</td>\n",
       "      <td>0.088154</td>\n",
       "    </tr>\n",
       "  </tbody>\n",
       "</table>\n",
       "</div>"
      ],
      "text/plain": [
       "  MasVnrType  SalePrice\n",
       "0     BrkCmn   0.010331\n",
       "1    BrkFace   0.306474\n",
       "2       None   0.595041\n",
       "3      Stone   0.088154"
      ]
     },
     "execution_count": 17,
     "metadata": {},
     "output_type": "execute_result"
    }
   ],
   "source": [
    "vet = group.count()['SalePrice']/df_train[df_train['MasVnrType'].notnull()]['SalePrice'].count()\n",
    "vet = vet.to_frame()\n",
    "vet.reset_index()"
   ]
  },
  {
   "cell_type": "code",
   "execution_count": 18,
   "metadata": {
    "colab": {},
    "colab_type": "code",
    "id": "WRxHLxEpcMKA"
   },
   "outputs": [],
   "source": [
    "df_train['MasVnrType'] = df_train['MasVnrType'].fillna(value='NaN')\n",
    "dist_change = df_train[df_train['MasVnrType']=='NaN']['Id'].sample(frac=1)\n",
    "for id in dist_change:\n",
    "    df_train.loc[df_train[\"Id\"]==id, \"MasVnrType\"] = 'None'"
   ]
  },
  {
   "cell_type": "code",
   "execution_count": 19,
   "metadata": {
    "colab": {},
    "colab_type": "code",
    "id": "G0_ifGUkcMKG",
    "outputId": "c18db5df-4556-46de-efba-e25d1215de4e"
   },
   "outputs": [
    {
     "data": {
      "text/plain": [
       "None       872\n",
       "BrkFace    445\n",
       "Stone      128\n",
       "BrkCmn      15\n",
       "Name: MasVnrType, dtype: int64"
      ]
     },
     "execution_count": 19,
     "metadata": {},
     "output_type": "execute_result"
    }
   ],
   "source": [
    "df_train['MasVnrType'].value_counts()"
   ]
  },
  {
   "cell_type": "markdown",
   "metadata": {
    "colab_type": "text",
    "id": "uE7V5kExcMKN"
   },
   "source": [
    "Criando campo data no conjundo de dados para treino"
   ]
  },
  {
   "cell_type": "code",
   "execution_count": 20,
   "metadata": {
    "colab": {},
    "colab_type": "code",
    "id": "D8hlomYTcMKP"
   },
   "outputs": [],
   "source": [
    "df_train['year'] = df_train['YrSold']\n",
    "df_train['month'] = df_train['MoSold']\n",
    "df_train['day'] = 1\n",
    "df_train['DateSold'] = pd.to_datetime(df_train[['year','month','day']])\n",
    "\n",
    "del df_train['year']\n",
    "del df_train['month']\n",
    "del df_train['day']"
   ]
  },
  {
   "cell_type": "markdown",
   "metadata": {
    "colab_type": "text",
    "id": "t2AAmcK-cMKY"
   },
   "source": [
    "Criando campo data no conjundo de dados para teste"
   ]
  },
  {
   "cell_type": "code",
   "execution_count": 21,
   "metadata": {
    "colab": {},
    "colab_type": "code",
    "id": "A1PodCcJcMKZ"
   },
   "outputs": [],
   "source": [
    "df_test['year'] = df_test['YrSold']\n",
    "df_test['month'] = df_test['MoSold']\n",
    "df_test['day'] = 1\n",
    "df_test['DateSold'] = pd.to_datetime(df_test[['year','month','day']])\n",
    "\n",
    "del df_test['year']\n",
    "del df_test['month']\n",
    "del df_test['day']"
   ]
  },
  {
   "cell_type": "code",
   "execution_count": 22,
   "metadata": {
    "colab": {},
    "colab_type": "code",
    "id": "ursdCeoxcMKg"
   },
   "outputs": [],
   "source": [
    "cat_features = df_train.columns\n",
    "drop_not_cat_features = ['Id','LotArea','LotFrontage','MasVnrArea','BsmtFinSF1','BsmtFinSF2','BsmtUnfSF','TotalBsmtSF','1stFlrSF','2ndFlrSF','LowQualFinSF','GrLivArea','BsmtFullBath','BsmtHalfBath','FullBath','HalfBath','BedroomAbvGr','KitchenAbvGr','TotRmsAbvGrd','Fireplaces','GarageYrBlt','GarageCars','GarageArea','WoodDeckSF','OpenPorchSF','EnclosedPorch','3SsnPorch','ScreenPorch','MiscVal','MoSold','YrSold','YearBuilt','YearRemodAdd','PoolArea','SalePrice','DateSold']\n",
    "cat_features = cat_features.drop(drop_not_cat_features)\n",
    "cat_features=cat_features.tolist()\n",
    "#cat_features"
   ]
  },
  {
   "cell_type": "code",
   "execution_count": 23,
   "metadata": {
    "colab": {},
    "colab_type": "code",
    "id": "MTJ7yFhjcMKm"
   },
   "outputs": [],
   "source": [
    "df_train[cat_features] = df_train[cat_features].fillna(value='NaN')\n",
    "df_test[cat_features] = df_test[cat_features].fillna(value='NaN')"
   ]
  },
  {
   "cell_type": "code",
   "execution_count": 24,
   "metadata": {
    "colab": {},
    "colab_type": "code",
    "id": "t95RlIa2cMKr",
    "outputId": "bd548c46-07b7-4c61-ddfe-87f49ff2acfd"
   },
   "outputs": [
    {
     "data": {
      "text/html": [
       "<div>\n",
       "<style scoped>\n",
       "    .dataframe tbody tr th:only-of-type {\n",
       "        vertical-align: middle;\n",
       "    }\n",
       "\n",
       "    .dataframe tbody tr th {\n",
       "        vertical-align: top;\n",
       "    }\n",
       "\n",
       "    .dataframe thead th {\n",
       "        text-align: right;\n",
       "    }\n",
       "</style>\n",
       "<table border=\"1\" class=\"dataframe\">\n",
       "  <thead>\n",
       "    <tr style=\"text-align: right;\">\n",
       "      <th></th>\n",
       "      <th>Id</th>\n",
       "      <th>LotArea</th>\n",
       "      <th>LotFrontage</th>\n",
       "      <th>MasVnrArea</th>\n",
       "      <th>BsmtFinSF1</th>\n",
       "      <th>BsmtFinSF2</th>\n",
       "      <th>BsmtUnfSF</th>\n",
       "      <th>TotalBsmtSF</th>\n",
       "      <th>1stFlrSF</th>\n",
       "      <th>2ndFlrSF</th>\n",
       "      <th>...</th>\n",
       "      <th>EnclosedPorch</th>\n",
       "      <th>3SsnPorch</th>\n",
       "      <th>ScreenPorch</th>\n",
       "      <th>MiscVal</th>\n",
       "      <th>MoSold</th>\n",
       "      <th>YrSold</th>\n",
       "      <th>YearBuilt</th>\n",
       "      <th>YearRemodAdd</th>\n",
       "      <th>PoolArea</th>\n",
       "      <th>SalePrice</th>\n",
       "    </tr>\n",
       "  </thead>\n",
       "  <tbody>\n",
       "    <tr>\n",
       "      <th>count</th>\n",
       "      <td>1460.000000</td>\n",
       "      <td>1460.000000</td>\n",
       "      <td>1201.000000</td>\n",
       "      <td>1452.000000</td>\n",
       "      <td>1460.000000</td>\n",
       "      <td>1460.000000</td>\n",
       "      <td>1460.000000</td>\n",
       "      <td>1460.000000</td>\n",
       "      <td>1460.000000</td>\n",
       "      <td>1460.000000</td>\n",
       "      <td>...</td>\n",
       "      <td>1460.000000</td>\n",
       "      <td>1460.000000</td>\n",
       "      <td>1460.000000</td>\n",
       "      <td>1460.000000</td>\n",
       "      <td>1460.000000</td>\n",
       "      <td>1460.000000</td>\n",
       "      <td>1460.000000</td>\n",
       "      <td>1460.000000</td>\n",
       "      <td>1460.000000</td>\n",
       "      <td>1460.000000</td>\n",
       "    </tr>\n",
       "    <tr>\n",
       "      <th>mean</th>\n",
       "      <td>730.500000</td>\n",
       "      <td>10516.828082</td>\n",
       "      <td>70.049958</td>\n",
       "      <td>103.685262</td>\n",
       "      <td>443.639726</td>\n",
       "      <td>46.549315</td>\n",
       "      <td>567.240411</td>\n",
       "      <td>1057.429452</td>\n",
       "      <td>1162.626712</td>\n",
       "      <td>346.992466</td>\n",
       "      <td>...</td>\n",
       "      <td>21.954110</td>\n",
       "      <td>3.409589</td>\n",
       "      <td>15.060959</td>\n",
       "      <td>43.489041</td>\n",
       "      <td>6.321918</td>\n",
       "      <td>2007.815753</td>\n",
       "      <td>1971.267808</td>\n",
       "      <td>1984.865753</td>\n",
       "      <td>2.758904</td>\n",
       "      <td>180921.195890</td>\n",
       "    </tr>\n",
       "    <tr>\n",
       "      <th>std</th>\n",
       "      <td>421.610009</td>\n",
       "      <td>9981.264932</td>\n",
       "      <td>24.284752</td>\n",
       "      <td>181.066207</td>\n",
       "      <td>456.098091</td>\n",
       "      <td>161.319273</td>\n",
       "      <td>441.866955</td>\n",
       "      <td>438.705324</td>\n",
       "      <td>386.587738</td>\n",
       "      <td>436.528436</td>\n",
       "      <td>...</td>\n",
       "      <td>61.119149</td>\n",
       "      <td>29.317331</td>\n",
       "      <td>55.757415</td>\n",
       "      <td>496.123024</td>\n",
       "      <td>2.703626</td>\n",
       "      <td>1.328095</td>\n",
       "      <td>30.202904</td>\n",
       "      <td>20.645407</td>\n",
       "      <td>40.177307</td>\n",
       "      <td>79442.502883</td>\n",
       "    </tr>\n",
       "    <tr>\n",
       "      <th>min</th>\n",
       "      <td>1.000000</td>\n",
       "      <td>1300.000000</td>\n",
       "      <td>21.000000</td>\n",
       "      <td>0.000000</td>\n",
       "      <td>0.000000</td>\n",
       "      <td>0.000000</td>\n",
       "      <td>0.000000</td>\n",
       "      <td>0.000000</td>\n",
       "      <td>334.000000</td>\n",
       "      <td>0.000000</td>\n",
       "      <td>...</td>\n",
       "      <td>0.000000</td>\n",
       "      <td>0.000000</td>\n",
       "      <td>0.000000</td>\n",
       "      <td>0.000000</td>\n",
       "      <td>1.000000</td>\n",
       "      <td>2006.000000</td>\n",
       "      <td>1872.000000</td>\n",
       "      <td>1950.000000</td>\n",
       "      <td>0.000000</td>\n",
       "      <td>34900.000000</td>\n",
       "    </tr>\n",
       "    <tr>\n",
       "      <th>25%</th>\n",
       "      <td>365.750000</td>\n",
       "      <td>7553.500000</td>\n",
       "      <td>59.000000</td>\n",
       "      <td>0.000000</td>\n",
       "      <td>0.000000</td>\n",
       "      <td>0.000000</td>\n",
       "      <td>223.000000</td>\n",
       "      <td>795.750000</td>\n",
       "      <td>882.000000</td>\n",
       "      <td>0.000000</td>\n",
       "      <td>...</td>\n",
       "      <td>0.000000</td>\n",
       "      <td>0.000000</td>\n",
       "      <td>0.000000</td>\n",
       "      <td>0.000000</td>\n",
       "      <td>5.000000</td>\n",
       "      <td>2007.000000</td>\n",
       "      <td>1954.000000</td>\n",
       "      <td>1967.000000</td>\n",
       "      <td>0.000000</td>\n",
       "      <td>129975.000000</td>\n",
       "    </tr>\n",
       "    <tr>\n",
       "      <th>50%</th>\n",
       "      <td>730.500000</td>\n",
       "      <td>9478.500000</td>\n",
       "      <td>69.000000</td>\n",
       "      <td>0.000000</td>\n",
       "      <td>383.500000</td>\n",
       "      <td>0.000000</td>\n",
       "      <td>477.500000</td>\n",
       "      <td>991.500000</td>\n",
       "      <td>1087.000000</td>\n",
       "      <td>0.000000</td>\n",
       "      <td>...</td>\n",
       "      <td>0.000000</td>\n",
       "      <td>0.000000</td>\n",
       "      <td>0.000000</td>\n",
       "      <td>0.000000</td>\n",
       "      <td>6.000000</td>\n",
       "      <td>2008.000000</td>\n",
       "      <td>1973.000000</td>\n",
       "      <td>1994.000000</td>\n",
       "      <td>0.000000</td>\n",
       "      <td>163000.000000</td>\n",
       "    </tr>\n",
       "    <tr>\n",
       "      <th>75%</th>\n",
       "      <td>1095.250000</td>\n",
       "      <td>11601.500000</td>\n",
       "      <td>80.000000</td>\n",
       "      <td>166.000000</td>\n",
       "      <td>712.250000</td>\n",
       "      <td>0.000000</td>\n",
       "      <td>808.000000</td>\n",
       "      <td>1298.250000</td>\n",
       "      <td>1391.250000</td>\n",
       "      <td>728.000000</td>\n",
       "      <td>...</td>\n",
       "      <td>0.000000</td>\n",
       "      <td>0.000000</td>\n",
       "      <td>0.000000</td>\n",
       "      <td>0.000000</td>\n",
       "      <td>8.000000</td>\n",
       "      <td>2009.000000</td>\n",
       "      <td>2000.000000</td>\n",
       "      <td>2004.000000</td>\n",
       "      <td>0.000000</td>\n",
       "      <td>214000.000000</td>\n",
       "    </tr>\n",
       "    <tr>\n",
       "      <th>max</th>\n",
       "      <td>1460.000000</td>\n",
       "      <td>215245.000000</td>\n",
       "      <td>313.000000</td>\n",
       "      <td>1600.000000</td>\n",
       "      <td>5644.000000</td>\n",
       "      <td>1474.000000</td>\n",
       "      <td>2336.000000</td>\n",
       "      <td>6110.000000</td>\n",
       "      <td>4692.000000</td>\n",
       "      <td>2065.000000</td>\n",
       "      <td>...</td>\n",
       "      <td>552.000000</td>\n",
       "      <td>508.000000</td>\n",
       "      <td>480.000000</td>\n",
       "      <td>15500.000000</td>\n",
       "      <td>12.000000</td>\n",
       "      <td>2010.000000</td>\n",
       "      <td>2010.000000</td>\n",
       "      <td>2010.000000</td>\n",
       "      <td>738.000000</td>\n",
       "      <td>755000.000000</td>\n",
       "    </tr>\n",
       "  </tbody>\n",
       "</table>\n",
       "<p>8 rows × 35 columns</p>\n",
       "</div>"
      ],
      "text/plain": [
       "                Id        LotArea  LotFrontage   MasVnrArea   BsmtFinSF1  \\\n",
       "count  1460.000000    1460.000000  1201.000000  1452.000000  1460.000000   \n",
       "mean    730.500000   10516.828082    70.049958   103.685262   443.639726   \n",
       "std     421.610009    9981.264932    24.284752   181.066207   456.098091   \n",
       "min       1.000000    1300.000000    21.000000     0.000000     0.000000   \n",
       "25%     365.750000    7553.500000    59.000000     0.000000     0.000000   \n",
       "50%     730.500000    9478.500000    69.000000     0.000000   383.500000   \n",
       "75%    1095.250000   11601.500000    80.000000   166.000000   712.250000   \n",
       "max    1460.000000  215245.000000   313.000000  1600.000000  5644.000000   \n",
       "\n",
       "        BsmtFinSF2    BsmtUnfSF  TotalBsmtSF     1stFlrSF     2ndFlrSF  ...  \\\n",
       "count  1460.000000  1460.000000  1460.000000  1460.000000  1460.000000  ...   \n",
       "mean     46.549315   567.240411  1057.429452  1162.626712   346.992466  ...   \n",
       "std     161.319273   441.866955   438.705324   386.587738   436.528436  ...   \n",
       "min       0.000000     0.000000     0.000000   334.000000     0.000000  ...   \n",
       "25%       0.000000   223.000000   795.750000   882.000000     0.000000  ...   \n",
       "50%       0.000000   477.500000   991.500000  1087.000000     0.000000  ...   \n",
       "75%       0.000000   808.000000  1298.250000  1391.250000   728.000000  ...   \n",
       "max    1474.000000  2336.000000  6110.000000  4692.000000  2065.000000  ...   \n",
       "\n",
       "       EnclosedPorch    3SsnPorch  ScreenPorch       MiscVal       MoSold  \\\n",
       "count    1460.000000  1460.000000  1460.000000   1460.000000  1460.000000   \n",
       "mean       21.954110     3.409589    15.060959     43.489041     6.321918   \n",
       "std        61.119149    29.317331    55.757415    496.123024     2.703626   \n",
       "min         0.000000     0.000000     0.000000      0.000000     1.000000   \n",
       "25%         0.000000     0.000000     0.000000      0.000000     5.000000   \n",
       "50%         0.000000     0.000000     0.000000      0.000000     6.000000   \n",
       "75%         0.000000     0.000000     0.000000      0.000000     8.000000   \n",
       "max       552.000000   508.000000   480.000000  15500.000000    12.000000   \n",
       "\n",
       "            YrSold    YearBuilt  YearRemodAdd     PoolArea      SalePrice  \n",
       "count  1460.000000  1460.000000   1460.000000  1460.000000    1460.000000  \n",
       "mean   2007.815753  1971.267808   1984.865753     2.758904  180921.195890  \n",
       "std       1.328095    30.202904     20.645407    40.177307   79442.502883  \n",
       "min    2006.000000  1872.000000   1950.000000     0.000000   34900.000000  \n",
       "25%    2007.000000  1954.000000   1967.000000     0.000000  129975.000000  \n",
       "50%    2008.000000  1973.000000   1994.000000     0.000000  163000.000000  \n",
       "75%    2009.000000  2000.000000   2004.000000     0.000000  214000.000000  \n",
       "max    2010.000000  2010.000000   2010.000000   738.000000  755000.000000  \n",
       "\n",
       "[8 rows x 35 columns]"
      ]
     },
     "execution_count": 24,
     "metadata": {},
     "output_type": "execute_result"
    }
   ],
   "source": [
    "df_train[drop_not_cat_features].describe()"
   ]
  },
  {
   "cell_type": "markdown",
   "metadata": {
    "colab_type": "text",
    "id": "_PJmfw1OcMKu"
   },
   "source": [
    "## Tratando outlines no target"
   ]
  },
  {
   "cell_type": "code",
   "execution_count": 25,
   "metadata": {
    "colab": {},
    "colab_type": "code",
    "id": "mVkWolAacMKv"
   },
   "outputs": [],
   "source": [
    "# target\n",
    "df_train['SalePrice'] = np.log(df_train['SalePrice'] + 1)\n"
   ]
  },
  {
   "cell_type": "markdown",
   "metadata": {
    "colab_type": "text",
    "id": "owEBeA5NcMK2"
   },
   "source": [
    "# Baseline Model"
   ]
  },
  {
   "cell_type": "code",
   "execution_count": 26,
   "metadata": {
    "colab": {},
    "colab_type": "code",
    "id": "WyhseEvacMK4"
   },
   "outputs": [],
   "source": [
    "def get_data_splits(dataframe, valid_fraction=0.1):\n",
    "    dataframe = dataframe.sort_values('DateSold')\n",
    "    valid_size = int(len(dataframe) * valid_fraction)\n",
    "\n",
    "    train = dataframe[:-valid_size * 2]\n",
    "    # valid size == test size, last two sections of the data\n",
    "    valid = dataframe[-valid_size * 2:-valid_size]\n",
    "    test = dataframe[-valid_size:]\n",
    "    \n",
    "    return train, valid, test"
   ]
  },
  {
   "cell_type": "markdown",
   "metadata": {
    "colab_type": "text",
    "id": "mEiONmF8cMK8"
   },
   "source": [
    "## 1) CastBoost Encoding"
   ]
  },
  {
   "cell_type": "code",
   "execution_count": 27,
   "metadata": {
    "colab": {},
    "colab_type": "code",
    "id": "W1WlbNjLcMK-"
   },
   "outputs": [],
   "source": [
    "train, valid, test = get_data_splits(df_train)"
   ]
  },
  {
   "cell_type": "code",
   "execution_count": 29,
   "metadata": {
    "colab": {},
    "colab_type": "code",
    "id": "0FTQKMz-cMLC"
   },
   "outputs": [],
   "source": [
    "import category_encoders as ce\n",
    "cb_enc = ce.CatBoostEncoder(cols=cat_features)\n",
    "\n",
    "# Create the CatBoost encoder\n",
    "cb_enc.fit(train[cat_features], train['SalePrice'])\n",
    "\n",
    "# Apply encoding to the train and validation sets as new columns\n",
    "# Make sure to add `_cb` as a suffix to the new columns\n",
    "train_encoded = train.join(cb_enc.transform(train[cat_features]).add_suffix('_cb'))\n",
    "valid_encoded = valid.join(cb_enc.transform(valid[cat_features]).add_suffix('_cb'))\n",
    "test_encoded  = test.join(cb_enc.transform(test[cat_features]).add_suffix('_cb'))"
   ]
  },
  {
   "cell_type": "code",
   "execution_count": 30,
   "metadata": {
    "colab": {},
    "colab_type": "code",
    "id": "gIzJCEcOcMLH"
   },
   "outputs": [],
   "source": [
    "train_encoded = train_encoded.drop(cat_features, axis=1)\n",
    "valid_encoded = valid_encoded.drop(cat_features, axis=1)\n",
    "test_encoded  = test_encoded.drop(cat_features, axis=1)"
   ]
  },
  {
   "cell_type": "code",
   "execution_count": 31,
   "metadata": {
    "colab": {},
    "colab_type": "code",
    "id": "apJpIsBwcMLK"
   },
   "outputs": [],
   "source": [
    "train_encoded = train_encoded.drop(['MoSold','YrSold','DateSold'], axis=1)\n",
    "valid_encoded = valid_encoded.drop(['MoSold','YrSold','DateSold'], axis=1)\n",
    "test_encoded  = test_encoded.drop(['MoSold','YrSold','DateSold'], axis=1)"
   ]
  },
  {
   "cell_type": "markdown",
   "metadata": {
    "colab_type": "text",
    "id": "BsybTqKVcMLP"
   },
   "source": [
    "## Missing Values"
   ]
  },
  {
   "cell_type": "code",
   "execution_count": 32,
   "metadata": {
    "colab": {},
    "colab_type": "code",
    "id": "iq-chGKpcMLQ"
   },
   "outputs": [],
   "source": [
    "from sklearn.impute import SimpleImputer\n",
    "my_imputer = SimpleImputer()\n",
    "\n",
    "imputed_X_train = pd.DataFrame(my_imputer.fit_transform(train_encoded))\n",
    "imputed_X_valid = pd.DataFrame(my_imputer.fit_transform(valid_encoded))\n",
    "imputed_X_test  = pd.DataFrame(my_imputer.fit_transform(test_encoded))\n",
    "\n",
    "imputed_X_train.columns = train_encoded.columns\n",
    "imputed_X_valid.columns = valid_encoded.columns\n",
    "imputed_X_test.columns  = test_encoded.columns\n"
   ]
  },
  {
   "cell_type": "markdown",
   "metadata": {
    "colab_type": "text",
    "id": "nOAzeoSdcMLV"
   },
   "source": [
    "### Train with LightGBM"
   ]
  },
  {
   "cell_type": "code",
   "execution_count": 34,
   "metadata": {
    "colab": {},
    "colab_type": "code",
    "id": "IgT7ZdQQcMLV",
    "outputId": "f0d45142-2906-4005-b042-8f0f79cb92c5"
   },
   "outputs": [
    {
     "name": "stderr",
     "output_type": "stream",
     "text": [
      "c:\\apps\\python\\python37\\lib\\site-packages\\lightgbm\\engine.py:181: UserWarning: 'early_stopping_rounds' argument is deprecated and will be removed in a future release of LightGBM. Pass 'early_stopping()' callback via 'callbacks' argument instead.\n",
      "  _log_warning(\"'early_stopping_rounds' argument is deprecated and will be removed in a future release of LightGBM. \"\n"
     ]
    },
    {
     "name": "stdout",
     "output_type": "stream",
     "text": [
      "[LightGBM] [Warning] Auto-choosing col-wise multi-threading, the overhead of testing was 0.001523 seconds.\n",
      "You can set `force_col_wise=true` to remove the overhead.\n",
      "[1]\tvalid_0's l2: 0.151364\tvalid_0's l1: 0.310095\n",
      "Training until validation scores don't improve for 100 rounds\n",
      "[2]\tvalid_0's l2: 0.141603\tvalid_0's l1: 0.298888\n",
      "[3]\tvalid_0's l2: 0.131635\tvalid_0's l1: 0.2867\n",
      "[4]\tvalid_0's l2: 0.122854\tvalid_0's l1: 0.276201\n",
      "[5]\tvalid_0's l2: 0.115088\tvalid_0's l1: 0.266601\n",
      "[6]\tvalid_0's l2: 0.108385\tvalid_0's l1: 0.257764\n",
      "[7]\tvalid_0's l2: 0.101731\tvalid_0's l1: 0.24847\n",
      "[8]\tvalid_0's l2: 0.0952571\tvalid_0's l1: 0.239797\n",
      "[9]\tvalid_0's l2: 0.0892972\tvalid_0's l1: 0.230978\n",
      "[10]\tvalid_0's l2: 0.0842842\tvalid_0's l1: 0.223415\n",
      "[11]\tvalid_0's l2: 0.0794355\tvalid_0's l1: 0.215424\n",
      "[12]\tvalid_0's l2: 0.075433\tvalid_0's l1: 0.208639\n",
      "[13]\tvalid_0's l2: 0.0716971\tvalid_0's l1: 0.202464\n",
      "[14]\tvalid_0's l2: 0.0677741\tvalid_0's l1: 0.195724\n",
      "[15]\tvalid_0's l2: 0.0643891\tvalid_0's l1: 0.18979\n",
      "[16]\tvalid_0's l2: 0.0612673\tvalid_0's l1: 0.184203\n",
      "[17]\tvalid_0's l2: 0.0583317\tvalid_0's l1: 0.17864\n",
      "[18]\tvalid_0's l2: 0.0556711\tvalid_0's l1: 0.173903\n",
      "[19]\tvalid_0's l2: 0.0531407\tvalid_0's l1: 0.1691\n",
      "[20]\tvalid_0's l2: 0.050859\tvalid_0's l1: 0.164397\n",
      "[21]\tvalid_0's l2: 0.0486633\tvalid_0's l1: 0.160255\n",
      "[22]\tvalid_0's l2: 0.046867\tvalid_0's l1: 0.156558\n",
      "[23]\tvalid_0's l2: 0.0449371\tvalid_0's l1: 0.152715\n",
      "[24]\tvalid_0's l2: 0.0433303\tvalid_0's l1: 0.149415\n",
      "[25]\tvalid_0's l2: 0.0416724\tvalid_0's l1: 0.145653\n",
      "[26]\tvalid_0's l2: 0.0402799\tvalid_0's l1: 0.142628\n",
      "[27]\tvalid_0's l2: 0.03893\tvalid_0's l1: 0.139596\n",
      "[28]\tvalid_0's l2: 0.0376135\tvalid_0's l1: 0.1369\n",
      "[29]\tvalid_0's l2: 0.0363662\tvalid_0's l1: 0.133998\n",
      "[30]\tvalid_0's l2: 0.0353513\tvalid_0's l1: 0.131444\n",
      "[31]\tvalid_0's l2: 0.0343493\tvalid_0's l1: 0.129127\n",
      "[32]\tvalid_0's l2: 0.0334171\tvalid_0's l1: 0.126836\n",
      "[33]\tvalid_0's l2: 0.0326047\tvalid_0's l1: 0.124996\n",
      "[34]\tvalid_0's l2: 0.031751\tvalid_0's l1: 0.123112\n",
      "[35]\tvalid_0's l2: 0.0310682\tvalid_0's l1: 0.121349\n",
      "[36]\tvalid_0's l2: 0.0305363\tvalid_0's l1: 0.119631\n",
      "[37]\tvalid_0's l2: 0.0298948\tvalid_0's l1: 0.117717\n",
      "[38]\tvalid_0's l2: 0.0294424\tvalid_0's l1: 0.116514\n",
      "[39]\tvalid_0's l2: 0.0289409\tvalid_0's l1: 0.114969\n",
      "[40]\tvalid_0's l2: 0.028492\tvalid_0's l1: 0.113631\n",
      "[41]\tvalid_0's l2: 0.0281243\tvalid_0's l1: 0.112363\n",
      "[42]\tvalid_0's l2: 0.0275871\tvalid_0's l1: 0.110846\n",
      "[43]\tvalid_0's l2: 0.0272279\tvalid_0's l1: 0.109782\n",
      "[44]\tvalid_0's l2: 0.0269572\tvalid_0's l1: 0.108902\n",
      "[45]\tvalid_0's l2: 0.0266521\tvalid_0's l1: 0.107797\n",
      "[46]\tvalid_0's l2: 0.0262287\tvalid_0's l1: 0.106615\n",
      "[47]\tvalid_0's l2: 0.0260352\tvalid_0's l1: 0.105665\n",
      "[48]\tvalid_0's l2: 0.0257244\tvalid_0's l1: 0.104734\n",
      "[49]\tvalid_0's l2: 0.0255466\tvalid_0's l1: 0.103993\n",
      "[50]\tvalid_0's l2: 0.0253583\tvalid_0's l1: 0.103682\n",
      "[51]\tvalid_0's l2: 0.0250176\tvalid_0's l1: 0.102611\n",
      "[52]\tvalid_0's l2: 0.0247371\tvalid_0's l1: 0.101872\n",
      "[53]\tvalid_0's l2: 0.0245183\tvalid_0's l1: 0.101339\n",
      "[54]\tvalid_0's l2: 0.0242713\tvalid_0's l1: 0.100497\n",
      "[55]\tvalid_0's l2: 0.0240579\tvalid_0's l1: 0.0996667\n",
      "[56]\tvalid_0's l2: 0.0238405\tvalid_0's l1: 0.0991041\n",
      "[57]\tvalid_0's l2: 0.0235846\tvalid_0's l1: 0.0984451\n",
      "[58]\tvalid_0's l2: 0.0235049\tvalid_0's l1: 0.0983896\n",
      "[59]\tvalid_0's l2: 0.0233115\tvalid_0's l1: 0.0978298\n",
      "[60]\tvalid_0's l2: 0.0231527\tvalid_0's l1: 0.0972986\n",
      "[61]\tvalid_0's l2: 0.0229677\tvalid_0's l1: 0.0968361\n",
      "[62]\tvalid_0's l2: 0.0227552\tvalid_0's l1: 0.0960827\n",
      "[63]\tvalid_0's l2: 0.0225447\tvalid_0's l1: 0.0955111\n",
      "[64]\tvalid_0's l2: 0.0224276\tvalid_0's l1: 0.0951828\n",
      "[65]\tvalid_0's l2: 0.0222626\tvalid_0's l1: 0.0949019\n",
      "[66]\tvalid_0's l2: 0.0221063\tvalid_0's l1: 0.0945032\n",
      "[67]\tvalid_0's l2: 0.0220134\tvalid_0's l1: 0.094168\n",
      "[68]\tvalid_0's l2: 0.0218146\tvalid_0's l1: 0.0936969\n",
      "[69]\tvalid_0's l2: 0.0217188\tvalid_0's l1: 0.0933637\n",
      "[70]\tvalid_0's l2: 0.0216264\tvalid_0's l1: 0.0930231\n",
      "[71]\tvalid_0's l2: 0.0215578\tvalid_0's l1: 0.0928566\n",
      "[72]\tvalid_0's l2: 0.0215021\tvalid_0's l1: 0.0926714\n",
      "[73]\tvalid_0's l2: 0.0214721\tvalid_0's l1: 0.0923165\n",
      "[74]\tvalid_0's l2: 0.0213919\tvalid_0's l1: 0.0920958\n",
      "[75]\tvalid_0's l2: 0.0213426\tvalid_0's l1: 0.0919886\n",
      "[76]\tvalid_0's l2: 0.0212471\tvalid_0's l1: 0.0918325\n",
      "[77]\tvalid_0's l2: 0.0211588\tvalid_0's l1: 0.0915764\n",
      "[78]\tvalid_0's l2: 0.0210503\tvalid_0's l1: 0.0912356\n",
      "[79]\tvalid_0's l2: 0.0210099\tvalid_0's l1: 0.0911451\n",
      "[80]\tvalid_0's l2: 0.0209482\tvalid_0's l1: 0.0909247\n",
      "[81]\tvalid_0's l2: 0.020912\tvalid_0's l1: 0.0906939\n",
      "[82]\tvalid_0's l2: 0.0209245\tvalid_0's l1: 0.0907923\n",
      "[83]\tvalid_0's l2: 0.0208307\tvalid_0's l1: 0.0904579\n",
      "[84]\tvalid_0's l2: 0.0207862\tvalid_0's l1: 0.0903998\n",
      "[85]\tvalid_0's l2: 0.0206932\tvalid_0's l1: 0.0901893\n",
      "[86]\tvalid_0's l2: 0.0206236\tvalid_0's l1: 0.0902885\n",
      "[87]\tvalid_0's l2: 0.0205284\tvalid_0's l1: 0.089926\n",
      "[88]\tvalid_0's l2: 0.0204854\tvalid_0's l1: 0.0897835\n",
      "[89]\tvalid_0's l2: 0.0203787\tvalid_0's l1: 0.0895014\n",
      "[90]\tvalid_0's l2: 0.0203173\tvalid_0's l1: 0.0893571\n",
      "[91]\tvalid_0's l2: 0.0203246\tvalid_0's l1: 0.0894017\n",
      "[92]\tvalid_0's l2: 0.0202811\tvalid_0's l1: 0.0893721\n",
      "[93]\tvalid_0's l2: 0.0202973\tvalid_0's l1: 0.0892349\n",
      "[94]\tvalid_0's l2: 0.0202819\tvalid_0's l1: 0.0892187\n",
      "[95]\tvalid_0's l2: 0.0202216\tvalid_0's l1: 0.0890932\n",
      "[96]\tvalid_0's l2: 0.0202358\tvalid_0's l1: 0.0890928\n",
      "[97]\tvalid_0's l2: 0.020216\tvalid_0's l1: 0.0890292\n",
      "[98]\tvalid_0's l2: 0.020193\tvalid_0's l1: 0.0889776\n",
      "[99]\tvalid_0's l2: 0.0201549\tvalid_0's l1: 0.0888033\n",
      "[100]\tvalid_0's l2: 0.0202368\tvalid_0's l1: 0.0889437\n",
      "[101]\tvalid_0's l2: 0.0202319\tvalid_0's l1: 0.0889344\n",
      "[102]\tvalid_0's l2: 0.0202386\tvalid_0's l1: 0.0890231\n",
      "[103]\tvalid_0's l2: 0.0201848\tvalid_0's l1: 0.0890259\n",
      "[104]\tvalid_0's l2: 0.0201569\tvalid_0's l1: 0.0889558\n",
      "[105]\tvalid_0's l2: 0.020189\tvalid_0's l1: 0.088997\n",
      "[106]\tvalid_0's l2: 0.0201562\tvalid_0's l1: 0.0889983\n",
      "[107]\tvalid_0's l2: 0.020149\tvalid_0's l1: 0.0889305\n",
      "[108]\tvalid_0's l2: 0.0201394\tvalid_0's l1: 0.088878\n",
      "[109]\tvalid_0's l2: 0.0200505\tvalid_0's l1: 0.0885848\n",
      "[110]\tvalid_0's l2: 0.0200585\tvalid_0's l1: 0.0886182\n",
      "[111]\tvalid_0's l2: 0.0200504\tvalid_0's l1: 0.0887699\n",
      "[112]\tvalid_0's l2: 0.0200787\tvalid_0's l1: 0.0889319\n",
      "[113]\tvalid_0's l2: 0.0200227\tvalid_0's l1: 0.0888401\n",
      "[114]\tvalid_0's l2: 0.0200628\tvalid_0's l1: 0.0889394\n",
      "[115]\tvalid_0's l2: 0.0200264\tvalid_0's l1: 0.0888761\n",
      "[116]\tvalid_0's l2: 0.0199825\tvalid_0's l1: 0.088864\n",
      "[117]\tvalid_0's l2: 0.0200262\tvalid_0's l1: 0.0890731\n",
      "[118]\tvalid_0's l2: 0.0200381\tvalid_0's l1: 0.0892324\n",
      "[119]\tvalid_0's l2: 0.0200446\tvalid_0's l1: 0.0892607\n",
      "[120]\tvalid_0's l2: 0.0200865\tvalid_0's l1: 0.0894106\n",
      "[121]\tvalid_0's l2: 0.0201415\tvalid_0's l1: 0.0895651\n",
      "[122]\tvalid_0's l2: 0.0201517\tvalid_0's l1: 0.089718\n",
      "[123]\tvalid_0's l2: 0.0201579\tvalid_0's l1: 0.08974\n",
      "[124]\tvalid_0's l2: 0.0201224\tvalid_0's l1: 0.089673\n",
      "[125]\tvalid_0's l2: 0.0201438\tvalid_0's l1: 0.0897213\n",
      "[126]\tvalid_0's l2: 0.0200852\tvalid_0's l1: 0.0896527\n",
      "[127]\tvalid_0's l2: 0.0201143\tvalid_0's l1: 0.0897316\n",
      "[128]\tvalid_0's l2: 0.0201185\tvalid_0's l1: 0.0897243\n",
      "[129]\tvalid_0's l2: 0.0201708\tvalid_0's l1: 0.0897958\n",
      "[130]\tvalid_0's l2: 0.0201883\tvalid_0's l1: 0.089707\n",
      "[131]\tvalid_0's l2: 0.020174\tvalid_0's l1: 0.089808\n",
      "[132]\tvalid_0's l2: 0.0202041\tvalid_0's l1: 0.0899584\n",
      "[133]\tvalid_0's l2: 0.0201916\tvalid_0's l1: 0.0898619\n",
      "[134]\tvalid_0's l2: 0.0201562\tvalid_0's l1: 0.0897975\n",
      "[135]\tvalid_0's l2: 0.0201558\tvalid_0's l1: 0.0897455\n",
      "[136]\tvalid_0's l2: 0.0201991\tvalid_0's l1: 0.0898689\n",
      "[137]\tvalid_0's l2: 0.0201925\tvalid_0's l1: 0.0899656\n",
      "[138]\tvalid_0's l2: 0.0201681\tvalid_0's l1: 0.0899385\n",
      "[139]\tvalid_0's l2: 0.0201191\tvalid_0's l1: 0.0897971\n",
      "[140]\tvalid_0's l2: 0.0201254\tvalid_0's l1: 0.0897267\n",
      "[141]\tvalid_0's l2: 0.0201271\tvalid_0's l1: 0.0895387\n",
      "[142]\tvalid_0's l2: 0.0201512\tvalid_0's l1: 0.0896451\n",
      "[143]\tvalid_0's l2: 0.0202012\tvalid_0's l1: 0.089793\n",
      "[144]\tvalid_0's l2: 0.0202138\tvalid_0's l1: 0.0899283\n",
      "[145]\tvalid_0's l2: 0.0201857\tvalid_0's l1: 0.089837\n",
      "[146]\tvalid_0's l2: 0.0201767\tvalid_0's l1: 0.0897325\n",
      "[147]\tvalid_0's l2: 0.020163\tvalid_0's l1: 0.0896994\n",
      "[148]\tvalid_0's l2: 0.0201598\tvalid_0's l1: 0.0896017\n",
      "[149]\tvalid_0's l2: 0.0201747\tvalid_0's l1: 0.0895262\n",
      "[150]\tvalid_0's l2: 0.0202189\tvalid_0's l1: 0.0896358\n",
      "[151]\tvalid_0's l2: 0.0201833\tvalid_0's l1: 0.0894403\n",
      "[152]\tvalid_0's l2: 0.0202307\tvalid_0's l1: 0.0894509\n",
      "[153]\tvalid_0's l2: 0.0202281\tvalid_0's l1: 0.0892997\n",
      "[154]\tvalid_0's l2: 0.0202382\tvalid_0's l1: 0.0892416\n",
      "[155]\tvalid_0's l2: 0.0202254\tvalid_0's l1: 0.0891845\n",
      "[156]\tvalid_0's l2: 0.0202627\tvalid_0's l1: 0.0892582\n",
      "[157]\tvalid_0's l2: 0.0203198\tvalid_0's l1: 0.089368\n",
      "[158]\tvalid_0's l2: 0.0203271\tvalid_0's l1: 0.0894282\n",
      "[159]\tvalid_0's l2: 0.0203801\tvalid_0's l1: 0.0896067\n",
      "[160]\tvalid_0's l2: 0.0203759\tvalid_0's l1: 0.0895665\n",
      "[161]\tvalid_0's l2: 0.0203901\tvalid_0's l1: 0.0896393\n",
      "[162]\tvalid_0's l2: 0.0204128\tvalid_0's l1: 0.0896015\n",
      "[163]\tvalid_0's l2: 0.0203914\tvalid_0's l1: 0.0895625\n",
      "[164]\tvalid_0's l2: 0.0203939\tvalid_0's l1: 0.0896836\n",
      "[165]\tvalid_0's l2: 0.0204046\tvalid_0's l1: 0.0897775\n",
      "[166]\tvalid_0's l2: 0.0203488\tvalid_0's l1: 0.089622\n",
      "[167]\tvalid_0's l2: 0.0203005\tvalid_0's l1: 0.089526\n",
      "[168]\tvalid_0's l2: 0.020328\tvalid_0's l1: 0.0895787\n",
      "[169]\tvalid_0's l2: 0.0203214\tvalid_0's l1: 0.0895547\n",
      "[170]\tvalid_0's l2: 0.0203033\tvalid_0's l1: 0.0895228\n",
      "[171]\tvalid_0's l2: 0.0203118\tvalid_0's l1: 0.0895068\n",
      "[172]\tvalid_0's l2: 0.020336\tvalid_0's l1: 0.0895539\n",
      "[173]\tvalid_0's l2: 0.0203321\tvalid_0's l1: 0.089559\n",
      "[174]\tvalid_0's l2: 0.0203128\tvalid_0's l1: 0.0895327\n",
      "[175]\tvalid_0's l2: 0.0203121\tvalid_0's l1: 0.0895422\n"
     ]
    },
    {
     "name": "stdout",
     "output_type": "stream",
     "text": [
      "[176]\tvalid_0's l2: 0.0202998\tvalid_0's l1: 0.0895224\n",
      "[177]\tvalid_0's l2: 0.020283\tvalid_0's l1: 0.0894714\n",
      "[178]\tvalid_0's l2: 0.0203007\tvalid_0's l1: 0.0894246\n",
      "[179]\tvalid_0's l2: 0.020283\tvalid_0's l1: 0.0893677\n",
      "[180]\tvalid_0's l2: 0.0202536\tvalid_0's l1: 0.0893665\n",
      "[181]\tvalid_0's l2: 0.0202348\tvalid_0's l1: 0.0892875\n",
      "[182]\tvalid_0's l2: 0.020249\tvalid_0's l1: 0.0893772\n",
      "[183]\tvalid_0's l2: 0.0202199\tvalid_0's l1: 0.0892767\n",
      "[184]\tvalid_0's l2: 0.0202397\tvalid_0's l1: 0.0893584\n",
      "[185]\tvalid_0's l2: 0.0202316\tvalid_0's l1: 0.08926\n",
      "[186]\tvalid_0's l2: 0.020245\tvalid_0's l1: 0.0892462\n",
      "[187]\tvalid_0's l2: 0.0202228\tvalid_0's l1: 0.0891349\n",
      "[188]\tvalid_0's l2: 0.0202457\tvalid_0's l1: 0.0892063\n",
      "[189]\tvalid_0's l2: 0.0202801\tvalid_0's l1: 0.0893844\n",
      "[190]\tvalid_0's l2: 0.0202326\tvalid_0's l1: 0.0892442\n",
      "[191]\tvalid_0's l2: 0.0202401\tvalid_0's l1: 0.0892152\n",
      "[192]\tvalid_0's l2: 0.020294\tvalid_0's l1: 0.0892924\n",
      "[193]\tvalid_0's l2: 0.0203113\tvalid_0's l1: 0.0892921\n",
      "[194]\tvalid_0's l2: 0.020319\tvalid_0's l1: 0.0892316\n",
      "[195]\tvalid_0's l2: 0.0203908\tvalid_0's l1: 0.0893912\n",
      "[196]\tvalid_0's l2: 0.0203926\tvalid_0's l1: 0.0892625\n",
      "[197]\tvalid_0's l2: 0.0203924\tvalid_0's l1: 0.0893038\n",
      "[198]\tvalid_0's l2: 0.0203369\tvalid_0's l1: 0.0892681\n",
      "[199]\tvalid_0's l2: 0.0203628\tvalid_0's l1: 0.0893105\n",
      "[200]\tvalid_0's l2: 0.0203644\tvalid_0's l1: 0.0892396\n",
      "[201]\tvalid_0's l2: 0.0203793\tvalid_0's l1: 0.0891872\n",
      "[202]\tvalid_0's l2: 0.0203991\tvalid_0's l1: 0.089231\n",
      "[203]\tvalid_0's l2: 0.0204112\tvalid_0's l1: 0.0892739\n",
      "[204]\tvalid_0's l2: 0.0203977\tvalid_0's l1: 0.0892414\n",
      "[205]\tvalid_0's l2: 0.0203719\tvalid_0's l1: 0.0891802\n",
      "[206]\tvalid_0's l2: 0.0203623\tvalid_0's l1: 0.0891555\n",
      "[207]\tvalid_0's l2: 0.0203465\tvalid_0's l1: 0.0891223\n",
      "[208]\tvalid_0's l2: 0.0203202\tvalid_0's l1: 0.0890109\n",
      "[209]\tvalid_0's l2: 0.020347\tvalid_0's l1: 0.0890802\n",
      "Early stopping, best iteration is:\n",
      "[109]\tvalid_0's l2: 0.0200505\tvalid_0's l1: 0.0885848\n"
     ]
    }
   ],
   "source": [
    "import lightgbm as lgb\n",
    "\n",
    "feature_cols = imputed_X_train.columns.drop(['Id','SalePrice'])\n",
    "\n",
    "dtrain = lgb.Dataset(imputed_X_train[feature_cols], label=train['SalePrice'])\n",
    "dvalid = lgb.Dataset(imputed_X_valid[feature_cols], label=valid['SalePrice'])\n",
    "dtest  = lgb.Dataset(imputed_X_test[feature_cols],  label=test['SalePrice'])\n",
    "\n",
    "params = {\n",
    "    'boosting_type': 'gbdt',\n",
    "    'objective': 'regression',\n",
    "    'metric': {'l2', 'l1'},\n",
    "    'num_leaves': 31,\n",
    "    'learning_rate': 0.05,\n",
    "    'feature_fraction': 0.5,\n",
    "    'bagging_fraction': 0.8,\n",
    "    'bagging_freq': 5,\n",
    "    'verbose': 0\n",
    "}\n",
    "\n",
    "bst = lgb.train(params, dtrain, num_boost_round=1000, valid_sets=dvalid, early_stopping_rounds=100)"
   ]
  },
  {
   "cell_type": "code",
   "execution_count": 35,
   "metadata": {
    "colab": {},
    "colab_type": "code",
    "id": "gUIybHhccMLZ",
    "outputId": "eab2d6d6-b608-46d4-dbd6-7f24a3b25e63"
   },
   "outputs": [
    {
     "name": "stdout",
     "output_type": "stream",
     "text": [
      "The rmse of prediction is: 0.1142491652140275\n"
     ]
    }
   ],
   "source": [
    "from sklearn import metrics\n",
    "from sklearn.metrics import mean_squared_error\n",
    "\n",
    "ypred = bst.predict(imputed_X_test[feature_cols], num_iteration=bst.best_iteration)\n",
    "print('The rmse of prediction is:', mean_squared_error(test['SalePrice'], ypred) ** 0.5)"
   ]
  },
  {
   "cell_type": "code",
   "execution_count": null,
   "metadata": {
    "colab": {},
    "colab_type": "code",
    "id": "rhRgFse_cMLd"
   },
   "outputs": [],
   "source": [
    "##The rmse of prediction is: 23262.730666296848\n",
    "##The rmse of prediction is: 23782.891028491173\n",
    "##The rmse of prediction is: 23673.62007031281"
   ]
  },
  {
   "cell_type": "markdown",
   "metadata": {
    "colab_type": "text",
    "id": "vfAztEBlcMLh"
   },
   "source": [
    "## Create dataset for submission"
   ]
  },
  {
   "cell_type": "code",
   "execution_count": 36,
   "metadata": {
    "colab": {},
    "colab_type": "code",
    "id": "wPy-RLrPcMLi"
   },
   "outputs": [],
   "source": [
    "test_encoded  = df_test.join(cb_enc.transform(df_test[cat_features]).add_suffix('_cb'))\n",
    "test_encoded  = test_encoded.drop(cat_features, axis=1)\n",
    "test_encoded  = test_encoded.drop(['MoSold','YrSold','DateSold'], axis=1)"
   ]
  },
  {
   "cell_type": "code",
   "execution_count": 37,
   "metadata": {
    "colab": {},
    "colab_type": "code",
    "id": "NorsJXwMcMLm"
   },
   "outputs": [],
   "source": [
    "imputed_X_test_sub  = pd.DataFrame(my_imputer.fit_transform(test_encoded))\n",
    "imputed_X_test_sub.columns  = test_encoded.columns"
   ]
  },
  {
   "cell_type": "code",
   "execution_count": 38,
   "metadata": {
    "colab": {},
    "colab_type": "code",
    "id": "XDpblNt2cMLq",
    "outputId": "3c942fe1-c4ff-446c-db6f-25a1e29bf68d"
   },
   "outputs": [
    {
     "data": {
      "text/plain": [
       "77"
      ]
     },
     "execution_count": 38,
     "metadata": {},
     "output_type": "execute_result"
    }
   ],
   "source": [
    "feature_cols = imputed_X_test_sub.columns.drop('Id')\n",
    "len(feature_cols)"
   ]
  },
  {
   "cell_type": "code",
   "execution_count": 39,
   "metadata": {
    "colab": {},
    "colab_type": "code",
    "id": "f7dDRFDhcMLv"
   },
   "outputs": [],
   "source": [
    "ypred = bst.predict(imputed_X_test_sub[feature_cols], num_iteration=bst.best_iteration)"
   ]
  },
  {
   "cell_type": "code",
   "execution_count": 40,
   "metadata": {
    "colab": {},
    "colab_type": "code",
    "id": "CpqrJCTvcML0"
   },
   "outputs": [],
   "source": [
    "ypred = np.exp(ypred)"
   ]
  },
  {
   "cell_type": "code",
   "execution_count": 41,
   "metadata": {
    "colab": {},
    "colab_type": "code",
    "id": "yNhelZoIcML5",
    "outputId": "8df8ada3-012a-4e28-cd52-8e89693f8c2f"
   },
   "outputs": [
    {
     "data": {
      "text/plain": [
       "(1459,)"
      ]
     },
     "execution_count": 41,
     "metadata": {},
     "output_type": "execute_result"
    }
   ],
   "source": [
    "sub= pd.Series(ypred, index=imputed_X_test_sub['Id'].astype(np.int64), name='SalePrice')\n",
    "sub.shape"
   ]
  },
  {
   "cell_type": "code",
   "execution_count": 42,
   "metadata": {
    "colab": {},
    "colab_type": "code",
    "id": "2CxdxTQKcML-",
    "outputId": "5c8cc53d-0d62-4e86-80f8-cc3d7d28a1d2"
   },
   "outputs": [
    {
     "data": {
      "text/plain": [
       "Id\n",
       "1461    122235.420652\n",
       "1462    158700.589239\n",
       "1463    184372.020315\n",
       "1464    191616.529721\n",
       "1465    186236.583656\n",
       "Name: SalePrice, dtype: float64"
      ]
     },
     "execution_count": 42,
     "metadata": {},
     "output_type": "execute_result"
    }
   ],
   "source": [
    "sub.head()"
   ]
  },
  {
   "cell_type": "code",
   "execution_count": 43,
   "metadata": {
    "colab": {},
    "colab_type": "code",
    "id": "9SaMe5eLcMMH"
   },
   "outputs": [],
   "source": [
    "sub.to_csv(\"submission.csv\", header=True)"
   ]
  },
  {
   "cell_type": "code",
   "execution_count": null,
   "metadata": {
    "colab": {},
    "colab_type": "code",
    "id": "w2sZD1yKcMML"
   },
   "outputs": [],
   "source": []
  }
 ],
 "metadata": {
  "colab": {
   "name": "HousePrices-v3.4.ipynb",
   "provenance": [],
   "toc_visible": true
  },
  "kernelspec": {
   "display_name": "Python 3 (ipykernel)",
   "language": "python",
   "name": "python3"
  },
  "language_info": {
   "codemirror_mode": {
    "name": "ipython",
    "version": 3
   },
   "file_extension": ".py",
   "mimetype": "text/x-python",
   "name": "python",
   "nbconvert_exporter": "python",
   "pygments_lexer": "ipython3",
   "version": "3.7.9"
  }
 },
 "nbformat": 4,
 "nbformat_minor": 1
}
